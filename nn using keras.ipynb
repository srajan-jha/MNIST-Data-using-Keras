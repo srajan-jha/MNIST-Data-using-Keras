{
 "cells": [
  {
   "cell_type": "markdown",
   "metadata": {
    "colab_type": "text",
    "id": "wcmZX6BIMBNP"
   },
   "source": [
    "## About the Dataset\n",
    "\n",
    "MNIST dataset is one of the classical problem in machine learning which deals to tackle the problem of recognizing hand-writeen digits from 0 through 9. It is often referred to as the 'Hello World Program'  for Machine Learning!\n",
    "\n",
    "The dataset consists of 60,000 training images and 10,000 test images of digits each being 28 x 28 pixels in size.\n",
    "\n",
    "\n",
    "We'll be traning a basic neural network to deal with the problem statement using Keras framework. It is a simple yet elegant, pseudocode-based framework which is used over Tensorflow and you'll get to learn about it as you'll move forward here. so let us get going!"
   ]
  },
  {
   "cell_type": "markdown",
   "metadata": {
    "colab_type": "text",
    "id": "MUU14iO_UgPO"
   },
   "source": [
    "### Setting Imports"
   ]
  },
  {
   "cell_type": "code",
   "execution_count": 2,
   "metadata": {
    "colab": {
     "base_uri": "https://localhost:8080/",
     "height": 34
    },
    "colab_type": "code",
    "id": "y2CLhAvMMBNT",
    "outputId": "eb67f615-a675-452b-d6a5-e81782ae3572"
   },
   "outputs": [
    {
     "name": "stderr",
     "output_type": "stream",
     "text": [
      "Using TensorFlow backend.\n"
     ]
    }
   ],
   "source": [
    "import numpy as np\n",
    "import keras\n",
    "\n",
    "import matplotlib.pyplot as plt\n",
    "%matplotlib inline\n"
   ]
  },
  {
   "cell_type": "markdown",
   "metadata": {
    "colab_type": "text",
    "id": "3SyHGqpvVdbN"
   },
   "source": [
    "**Defining a function to pre-process the dataset and return the traning and testing sets separately**"
   ]
  },
  {
   "cell_type": "code",
   "execution_count": 0,
   "metadata": {
    "colab": {},
    "colab_type": "code",
    "id": "ntCZStXHVDKq"
   },
   "outputs": [],
   "source": [
    "def load_dataset(flatten=False):\n",
    "    (X_train, y_train), (X_test, y_test) = keras.datasets.mnist.load_data()\n",
    "\n",
    "    # normalize x\n",
    "    X_train = X_train.astype(float) / 255.\n",
    "    X_test = X_test.astype(float) / 255.\n",
    "\n",
    "    # we reserve the last 10000 training examples for validation\n",
    "    X_train, X_val = X_train[:-10000], X_train[-10000:]\n",
    "    y_train, y_val = y_train[:-10000], y_train[-10000:]\n",
    "\n",
    "    if flatten:\n",
    "        X_train = X_train.reshape([X_train.shape[0], -1])\n",
    "        X_val = X_val.reshape([X_val.shape[0], -1])\n",
    "        X_test = X_test.reshape([X_test.shape[0], -1])\n",
    "\n",
    "    return X_train, y_train, X_val, y_val, X_test, y_test"
   ]
  },
  {
   "cell_type": "code",
   "execution_count": 4,
   "metadata": {
    "colab": {
     "base_uri": "https://localhost:8080/",
     "height": 50
    },
    "colab_type": "code",
    "id": "d74r0EnmVK9M",
    "outputId": "04d8968b-66f8-4f0a-8feb-97d458b77848"
   },
   "outputs": [
    {
     "name": "stdout",
     "output_type": "stream",
     "text": [
      "Downloading data from https://s3.amazonaws.com/img-datasets/mnist.npz\n",
      "11493376/11490434 [==============================] - 3s 0us/step\n"
     ]
    }
   ],
   "source": [
    "X_train, y_train, X_val, y_val, X_test, y_test = load_dataset()\n",
    "y_train,y_val,y_test = map(keras.utils.np_utils.to_categorical,[y_train,y_val,y_test])"
   ]
  },
  {
   "cell_type": "code",
   "execution_count": 6,
   "metadata": {
    "colab": {
     "base_uri": "https://localhost:8080/",
     "height": 265
    },
    "colab_type": "code",
    "id": "IQpRuzCDMBNc",
    "outputId": "3feb0006-09ab-4da5-b1ed-a29323ff8dd1"
   },
   "outputs": [
    {
     "data": {
      "image/png": "[encoded data removed]",
      "text/plain": [
       "<matplotlib.figure.Figure at 0x7f5e7c942e80>"
      ]
     },
     "metadata": {
      "tags": []
     },
     "output_type": "display_data"
    }
   ],
   "source": [
    "plt.imshow(X_train[5]);"
   ]
  },
  {
   "cell_type": "markdown",
   "metadata": {
    "colab_type": "text",
    "id": "kbY3NwcOMBNj"
   },
   "source": [
    "---\n",
    "### Deep Learning Section using Tensorflow's Keras"
   ]
  },
  {
   "cell_type": "code",
   "execution_count": 0,
   "metadata": {
    "colab": {},
    "colab_type": "code",
    "id": "QFV4diSXMBNl"
   },
   "outputs": [],
   "source": [
    "import tensorflow as tf\n",
    "s = tf.InteractiveSession()"
   ]
  },
  {
   "cell_type": "markdown",
   "metadata": {
    "colab_type": "text",
    "id": "oL7a1vv_WJ8F"
   },
   "source": [
    "Here, \n",
    "\n",
    "tf.InteractiveSession() is used to start up a tensorflow session which will install itself up as according to the model without needing to call it explicitly everytime."
   ]
  },
  {
   "cell_type": "code",
   "execution_count": 0,
   "metadata": {
    "colab": {},
    "colab_type": "code",
    "id": "zXnvV6uHMBNq"
   },
   "outputs": [],
   "source": [
    "from keras.models import Sequential\n",
    "import keras.layers as layer\n",
    "\n",
    "# Sequential is a layered architecture model \n",
    "# containing input, hidden and output layers all stacked up in a pipeline\n",
    "model = Sequential()\n",
    "\n",
    "# this method makes up the input layer of size (28x28, 1) i.e. (784,1)\n",
    "model.add(layer.InputLayer([28, 28]))\n",
    "# converts the [28,28] layer into one-dimensional\n",
    "model.add(layer.Flatten())          \n",
    "\n",
    "### network architecture ###\n",
    "\n",
    "# first hidden layer\n",
    "model.add(layer.Dense(128))\n",
    "model.add(layer.Activation('relu'))\n",
    "\n",
    "# second hidden layer\n",
    "model.add(layer.Dense(64,kernel_regularizer=keras.regularizers.l2(0.01)))\n",
    "model.add(layer.Activation('relu'))\n",
    "\n",
    "# third hidden layer\n",
    "model.add(layer.Dense(64))\n",
    "model.add(layer.Activation('linear'))\n",
    "\n",
    "# output layer: 10 neurons for each class with softmax activation\n",
    "model.add(layer.Dense(10, activation='softmax'))\n",
    "\n",
    "# adam -> optimizer\n",
    "# categorical_crossentropy -> loss function\n",
    "# and lastly for the accuracy check metrics\n",
    "model.compile(\"adam\", \"categorical_crossentropy\", metrics=[\"accuracy\"])"
   ]
  },
  {
   "cell_type": "code",
   "execution_count": 16,
   "metadata": {
    "colab": {
     "base_uri": "https://localhost:8080/",
     "height": 437
    },
    "colab_type": "code",
    "id": "dzQ7iSsFMBNy",
    "outputId": "e44f2bfb-9628-46b8-a357-612544622ff6"
   },
   "outputs": [
    {
     "name": "stdout",
     "output_type": "stream",
     "text": [
      "_________________________________________________________________\n",
      "Layer (type)                 Output Shape              Param #   \n",
      "=================================================================\n",
      "input_2 (InputLayer)         (None, 28, 28)            0         \n",
      "_________________________________________________________________\n",
      "flatten_2 (Flatten)          (None, 784)               0         \n",
      "_________________________________________________________________\n",
      "dense_5 (Dense)              (None, 128)               100480    \n",
      "_________________________________________________________________\n",
      "activation_4 (Activation)    (None, 128)               0         \n",
      "_________________________________________________________________\n",
      "dense_6 (Dense)              (None, 64)                8256      \n",
      "_________________________________________________________________\n",
      "activation_5 (Activation)    (None, 64)                0         \n",
      "_________________________________________________________________\n",
      "dense_7 (Dense)              (None, 64)                4160      \n",
      "_________________________________________________________________\n",
      "activation_6 (Activation)    (None, 64)                0         \n",
      "_________________________________________________________________\n",
      "dense_8 (Dense)              (None, 10)                650       \n",
      "=================================================================\n",
      "Total params: 113,546\n",
      "Trainable params: 113,546\n",
      "Non-trainable params: 0\n",
      "_________________________________________________________________\n"
     ]
    }
   ],
   "source": [
    "# method outputs the dimensions and the architecture of the model which is to be trained\n",
    "model.summary()"
   ]
  },
  {
   "cell_type": "markdown",
   "metadata": {
    "colab_type": "text",
    "id": "Cha1mz82MBN6"
   },
   "source": [
    "---\n",
    "### Fitting/Training the Model"
   ]
  },
  {
   "cell_type": "code",
   "execution_count": 17,
   "metadata": {
    "colab": {
     "base_uri": "https://localhost:8080/",
     "height": 370
    },
    "colab_type": "code",
    "id": "0uM0thhbMBN8",
    "outputId": "21fc99f6-db19-44f6-a8e6-6f87f656571b"
   },
   "outputs": [
    {
     "name": "stdout",
     "output_type": "stream",
     "text": [
      "Train on 50000 samples, validate on 10000 samples\n",
      "Epoch 1/10\n",
      "50000/50000 [==============================] - 12s 249us/step - loss: 0.4609 - acc: 0.9173 - val_loss: 0.2056 - val_acc: 0.9591\n",
      "Epoch 2/10\n",
      "50000/50000 [==============================] - 12s 245us/step - loss: 0.1806 - acc: 0.9601 - val_loss: 0.1477 - val_acc: 0.9679\n",
      "Epoch 3/10\n",
      "50000/50000 [==============================] - 12s 246us/step - loss: 0.1336 - acc: 0.9709 - val_loss: 0.1257 - val_acc: 0.9701\n",
      "Epoch 4/10\n",
      "50000/50000 [==============================] - 12s 244us/step - loss: 0.1150 - acc: 0.9743 - val_loss: 0.1236 - val_acc: 0.9729\n",
      "Epoch 5/10\n",
      "50000/50000 [==============================] - 12s 245us/step - loss: 0.0976 - acc: 0.9795 - val_loss: 0.1186 - val_acc: 0.9726\n",
      "Epoch 6/10\n",
      "50000/50000 [==============================] - 12s 244us/step - loss: 0.0858 - acc: 0.9818 - val_loss: 0.1156 - val_acc: 0.9760\n",
      "Epoch 7/10\n",
      "50000/50000 [==============================] - 12s 243us/step - loss: 0.0785 - acc: 0.9836 - val_loss: 0.1250 - val_acc: 0.9707\n",
      "Epoch 8/10\n",
      "50000/50000 [==============================] - 12s 248us/step - loss: 0.0717 - acc: 0.9852 - val_loss: 0.1266 - val_acc: 0.9702\n",
      "Epoch 9/10\n",
      "50000/50000 [==============================] - 12s 244us/step - loss: 0.0651 - acc: 0.9868 - val_loss: 0.1198 - val_acc: 0.9747\n",
      "Epoch 10/10\n",
      "50000/50000 [==============================] - 12s 245us/step - loss: 0.0602 - acc: 0.9884 - val_loss: 0.1168 - val_acc: 0.9751\n"
     ]
    }
   ],
   "source": [
    "# method fits (or starts the training of) the model\n",
    "model.fit(X_train, y_train,\n",
    "          validation_data=(X_val, y_val), epochs=10);"
   ]
  },
  {
   "cell_type": "code",
   "execution_count": 18,
   "metadata": {
    "colab": {
     "base_uri": "https://localhost:8080/",
     "height": 118
    },
    "colab_type": "code",
    "id": "1F2sOIEPMBOF",
    "outputId": "72ac18a4-d64b-40fe-90af-fcc5ad1d7478"
   },
   "outputs": [
    {
     "data": {
      "text/plain": [
       "array([[3.0103020e-13, 5.9626331e-09, 1.7813804e-08, 9.9999619e-01,\n",
       "        1.1051878e-12, 3.6908311e-06, 1.5752575e-14, 2.1197792e-08,\n",
       "        1.0225729e-07, 1.9934802e-08],\n",
       "       [1.4315302e-07, 2.0601997e-06, 4.2718298e-06, 1.4301049e-06,\n",
       "        1.0416604e-08, 9.3313353e-08, 1.8712474e-07, 2.7117085e-07,\n",
       "        9.9999142e-01, 7.0709731e-08]], dtype=float32)"
      ]
     },
     "execution_count": 18,
     "metadata": {
      "tags": []
     },
     "output_type": "execute_result"
    }
   ],
   "source": [
    "# estimate probabilities P\n",
    "model.predict_proba(X_val[:2])"
   ]
  },
  {
   "cell_type": "code",
   "execution_count": 0,
   "metadata": {
    "colab": {},
    "colab_type": "code",
    "id": "nezXbgqYMBON"
   },
   "outputs": [],
   "source": [
    "# Save trained weights\n",
    "model.save(\"weights.h5\")"
   ]
  },
  {
   "cell_type": "code",
   "execution_count": 20,
   "metadata": {
    "colab": {
     "base_uri": "https://localhost:8080/",
     "height": 67
    },
    "colab_type": "code",
    "id": "Gl7WTL5uMBOQ",
    "outputId": "8c973f7f-23bf-4b8a-a50b-288b71432287"
   },
   "outputs": [
    {
     "name": "stdout",
     "output_type": "stream",
     "text": [
      "10000/10000 [==============================] - 1s 75us/step\n",
      "\n",
      "Loss, Accuracy =  [0.1197252769857645, 0.9725]\n"
     ]
    }
   ],
   "source": [
    "print(\"\\nLoss, Accuracy = \", model.evaluate(X_test, y_test))"
   ]
  },
  {
   "cell_type": "markdown",
   "metadata": {
    "colab_type": "text",
    "id": "-MPJcTCVMBOW"
   },
   "source": [
    "---\n",
    "### Finally, testing the Model!"
   ]
  },
  {
   "cell_type": "code",
   "execution_count": 22,
   "metadata": {
    "colab": {
     "base_uri": "https://localhost:8080/",
     "height": 50
    },
    "colab_type": "code",
    "id": "Ev-A1EesMBOY",
    "outputId": "46a409a5-d6b6-418a-edcd-245fa568bbca"
   },
   "outputs": [
    {
     "name": "stdout",
     "output_type": "stream",
     "text": [
      "\n",
      "Test accuracy: 97.25 %\n"
     ]
    }
   ],
   "source": [
    "# Test score...\n",
    "test_predictions = model.predict_proba(X_test).argmax(axis=-1)\n",
    "test_answers = y_test.argmax(axis=-1)\n",
    "\n",
    "test_accuracy = np.mean(test_predictions==test_answers)\n",
    "\n",
    "print(\"\\nTest accuracy: {} %\".format(test_accuracy*100))"
   ]
  },
  {
   "cell_type": "markdown",
   "metadata": {
    "colab_type": "text",
    "id": "idMw5yzMMBOs"
   },
   "source": [
    "---\n",
    "### Making the model even better\n",
    "\n",
    "There are various aspects where the model's performace can be improved even after reaching a 98% mark like:\n",
    "\n",
    "- **Network Architecture and size** plays a significant role in optimizing a model's performance\n",
    "    - The number of layers and neurons in each layer can be played with \n",
    "    - Various activation function also helps at times\n",
    "    - Number of epochs can be twitched as per your choice (of course keeping in mind that it doesn't overfit)\n",
    "    \n",
    "- **Early Stopping, Dropouts and Regularization**\n",
    "    - If the model overfits (which happens in most cases) then these techniques can be equiped to avoid it.\n",
    "    - *Early stopping*, as the name goes, is used to stop the training of the model when a mark (say 98% accuracy) is reached; hence the model won't overfit and squeeze out the accuracy outta it. It will also reduce the time in case, you mentioned it to run for 100 epochs but the network has already converged in say 20 epochs then it'll stop!\n",
    "    - *Dropout* is to make some neurons dead while training which too helps avoid the overfitting of the model\n",
    "    - Regularization techniques (like L1, L2, etc) can be used to optimize the model's performance even more\n",
    "\n",
    "* __Faster optimization__\n",
    "   * rmsprop, nesterov_momentum, adam, adagrad and so on are available in Keras to be implemented.\n",
    "   * One which converges faster and sometimes reach better optima should be the user's choice\n",
    "   * It might make sense to tweak learning rate/momentum, other learning parameters, batch size and number of epochs"
   ]
  }
 ],
 "metadata": {
  "accelerator": "GPU",
  "colab": {
   "collapsed_sections": [],
   "name": "Keras-task.ipynb",
   "provenance": [],
   "version": "0.3.2"
  },
  "kernelspec": {
   "display_name": "Python 3",
   "language": "python",
   "name": "python3"
  },
  "language_info": {
   "codemirror_mode": {
    "name": "ipython",
    "version": 3
   },
   "file_extension": ".py",
   "mimetype": "text/x-python",
   "name": "python",
   "nbconvert_exporter": "python",
   "pygments_lexer": "ipython3",
   "version": "3.6.4"
  }
 },
 "nbformat": 4,
 "nbformat_minor": 1
}
